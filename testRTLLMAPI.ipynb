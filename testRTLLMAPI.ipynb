{
 "cells": [
  {
   "cell_type": "code",
   "execution_count": 1,
   "metadata": {},
   "outputs": [
    {
     "name": "stdout",
     "output_type": "stream",
     "text": [
      "sending test data\n",
      "data received :  {\"msg\": \"check\", \"requestID\": 0}\n"
     ]
    }
   ],
   "source": [
    "from rtllmAPI import *\n",
    "\n",
    "Helper = rtllm(\"127.0.1.1\",10000)\n",
    "Helper.connectToServer()\n",
    "Helper.tryConnectionTest()"
   ]
  },
  {
   "cell_type": "code",
   "execution_count": 2,
   "metadata": {},
   "outputs": [
    {
     "name": "stdout",
     "output_type": "stream",
     "text": [
      "sending request to createHistoryFile\n"
     ]
    }
   ],
   "source": [
    "Helper.createHistoryFile('testfile')"
   ]
  },
  {
   "cell_type": "code",
   "execution_count": 5,
   "metadata": {},
   "outputs": [
    {
     "name": "stdout",
     "output_type": "stream",
     "text": [
      "sending request to checkHistoryFile\n",
      "{\"msg\": {\"json\": true, \"cache\": true}, \"requestID\": null}\n"
     ]
    }
   ],
   "source": [
    "print(Helper.checkHistoryFile('testfile'))"
   ]
  },
  {
   "cell_type": "code",
   "execution_count": null,
   "metadata": {},
   "outputs": [
    {
     "name": "stdout",
     "output_type": "stream",
     "text": [
      "sending request to requestInference\n",
      "{\"msg\": [\"assistant\\n\\nIt seems like you're trying to establish a connection. I'm here to help, so feel free to start a conversation or ask a question.\", 34], \"requestID\": 1}\n",
      "ending session\n",
      "data received :  {\"msg\": \"bye\", \"requestID\": null}\n",
      "None\n"
     ]
    }
   ],
   "source": [
    "while True:\n",
    "    _input = input()\n",
    "    if _input == 'exit':\n",
    "        print(Helper.disconnect())\n",
    "        break\n",
    "    else:\n",
    "        print(Helper.requestInference('testfile',_input,1))"
   ]
  },
  {
   "cell_type": "code",
   "execution_count": null,
   "metadata": {},
   "outputs": [
    {
     "name": "stdout",
     "output_type": "stream",
     "text": [
      "ending session\n"
     ]
    },
    {
     "ename": "KeyboardInterrupt",
     "evalue": "",
     "output_type": "error",
     "traceback": [
      "\u001b[0;31m---------------------------------------------------------------------------\u001b[0m",
      "\u001b[0;31mKeyboardInterrupt\u001b[0m                         Traceback (most recent call last)",
      "Cell \u001b[0;32mIn[3], line 1\u001b[0m\n\u001b[0;32m----> 1\u001b[0m \u001b[38;5;28mprint\u001b[39m(\u001b[43mHelper\u001b[49m\u001b[38;5;241;43m.\u001b[39;49m\u001b[43mdisconnect\u001b[49m\u001b[43m(\u001b[49m\u001b[43m)\u001b[49m)\n",
      "File \u001b[0;32m~/RT-LLM/rtllmAPI.py:30\u001b[0m, in \u001b[0;36mrtllm.disconnect\u001b[0;34m(self, requestID)\u001b[0m\n\u001b[1;32m     25\u001b[0m msg \u001b[38;5;241m=\u001b[39m {\n\u001b[1;32m     26\u001b[0m     \u001b[38;5;124m\"\u001b[39m\u001b[38;5;124mmode\u001b[39m\u001b[38;5;124m\"\u001b[39m:rtllmMsgMode\u001b[38;5;241m.\u001b[39mdisconnect,\n\u001b[1;32m     27\u001b[0m     \u001b[38;5;124m\"\u001b[39m\u001b[38;5;124mrequestID\u001b[39m\u001b[38;5;124m\"\u001b[39m:requestID\n\u001b[1;32m     28\u001b[0m }\n\u001b[1;32m     29\u001b[0m \u001b[38;5;28mself\u001b[39m\u001b[38;5;241m.\u001b[39mserver\u001b[38;5;241m.\u001b[39msend(json\u001b[38;5;241m.\u001b[39mdumps(msg)\u001b[38;5;241m.\u001b[39mencode())\n\u001b[0;32m---> 30\u001b[0m reply \u001b[38;5;241m=\u001b[39m \u001b[38;5;28;43mself\u001b[39;49m\u001b[38;5;241;43m.\u001b[39;49m\u001b[43mserver\u001b[49m\u001b[38;5;241;43m.\u001b[39;49m\u001b[43mrecv\u001b[49m\u001b[43m(\u001b[49m\u001b[38;5;241;43m1024\u001b[39;49m\u001b[43m)\u001b[49m\u001b[38;5;241m.\u001b[39mdecode()\n\u001b[1;32m     31\u001b[0m \u001b[38;5;28mprint\u001b[39m(\u001b[38;5;124m\"\u001b[39m\u001b[38;5;124mdata received : \u001b[39m\u001b[38;5;124m\"\u001b[39m,reply)\n",
      "\u001b[0;31mKeyboardInterrupt\u001b[0m: "
     ]
    }
   ],
   "source": []
  },
  {
   "cell_type": "code",
   "execution_count": 19,
   "metadata": {},
   "outputs": [
    {
     "name": "stdout",
     "output_type": "stream",
     "text": [
      "sending test data\n",
      "data received :  {\"msg\": \"check\"}\n"
     ]
    }
   ],
   "source": [
    "Helper.tryConnectionTest()"
   ]
  }
 ],
 "metadata": {
  "kernelspec": {
   "display_name": "Python 3",
   "language": "python",
   "name": "python3"
  },
  "language_info": {
   "codemirror_mode": {
    "name": "ipython",
    "version": 3
   },
   "file_extension": ".py",
   "mimetype": "text/x-python",
   "name": "python",
   "nbconvert_exporter": "python",
   "pygments_lexer": "ipython3",
   "version": "3.10.12"
  }
 },
 "nbformat": 4,
 "nbformat_minor": 2
}
